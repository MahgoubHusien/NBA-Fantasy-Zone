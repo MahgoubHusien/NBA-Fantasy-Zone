{
 "cells": [
  {
   "cell_type": "code",
   "execution_count": null,
   "metadata": {},
   "outputs": [],
   "source": [
    "import os\n",
    "from bs4 import BeautifulSoup\n",
    "%pip install playwright\n",
    "!playwright install\n",
    "from playwright.async_api import async_playwright, TimeoutError as PlaywrightTimeout"
   ]
  },
  {
   "cell_type": "code",
   "execution_count": null,
   "metadata": {},
   "outputs": [],
   "source": [
    "SEASONS = list(range(2016, 2025))"
   ]
  },
  {
   "cell_type": "code",
   "execution_count": null,
   "metadata": {},
   "outputs": [],
   "source": [
    "DATA_DIR = 'games'\n",
    "STANDINGS_DIR = os.path.join(DATA_DIR, 'standings')\n",
    "SCORES_DIR = os.path.join(DATA_DIR, 'scores')\n",
    "\n",
    "\n",
    "# Ensure directories exist\n",
    "os.makedirs(STANDINGS_DIR, exist_ok=True)\n",
    "os.makedirs(SCORES_DIR, exist_ok=True)\n",
    "\n",
    "print(f\"Data will be saved in: {DATA_DIR}\")\n",
    "print(f\"Standings will be saved in: {STANDINGS_DIR}\")\n",
    "print(f\"Scores will be saved in: {SCORES_DIR}\")"
   ]
  },
  {
   "cell_type": "code",
   "execution_count": null,
   "metadata": {},
   "outputs": [],
   "source": [
    "import time\n",
    "\n",
    "async def get_html(url, selector, sleep=30, retries=5):\n",
    "    html = None\n",
    "    for _ in range(1, retries+1):\n",
    "        time.sleep(sleep)\n",
    "        try:\n",
    "            async with async_playwright() as p:\n",
    "                browser = await p.chromium.launch()\n",
    "                page = await browser.new_page()\n",
    "                await page.goto(url)\n",
    "                print(await page.title())\n",
    "                html = await page.inner_html(selector)\n",
    "        except PlaywrightTimeout:\n",
    "            print(f'Timeout on attempt {_} for {url}')\n",
    "            continue\n",
    "        else:\n",
    "            break\n",
    "    return html"
   ]
  },
  {
   "cell_type": "code",
   "execution_count": null,
   "metadata": {},
   "outputs": [],
   "source": [
    "async def scrape_seasons(season):\n",
    "    url = f'https://www.basketball-reference.com/leagues/NBA_{season}_games.html'\n",
    "    html = await get_html(url, '#content .filter')\n",
    "    soup = BeautifulSoup(html)\n",
    "    links = soup.find_all('a')\n",
    "    href = [link['href'] for link in links]\n",
    "    standings_pages = [f\"https://www.basketball-reference.com{h}\" for h in href] \n",
    "    \n",
    "    for url in standings_pages:\n",
    "        save_path = os.path.join(STANDINGS_DIR, url.split('/')[-1])\n",
    "        if os.path.exists(save_path):\n",
    "            print(f'{save_path} already exists')\n",
    "            continue\n",
    "\n",
    "        html = await get_html(url, '#all_schedule')\n",
    "        with open(save_path, 'w+') as f:\n",
    "            f.write(html)\n"
   ]
  },
  {
   "cell_type": "code",
   "execution_count": null,
   "metadata": {},
   "outputs": [],
   "source": [
    "season = 2010\n",
    "url = f'https://www.basketball-reference.com/leagues/NBA_{season}_games.html'"
   ]
  },
  {
   "cell_type": "code",
   "execution_count": null,
   "metadata": {},
   "outputs": [],
   "source": [
    "standings_files = os.listdir(STANDINGS_DIR)"
   ]
  },
  {
   "cell_type": "code",
   "execution_count": null,
   "metadata": {},
   "outputs": [],
   "source": [
    "async def scrape_box_scores(standings_file):\n",
    "    with open(standings_file, 'r') as f:\n",
    "        html = f.read()\n",
    "\n",
    "    soup = BeautifulSoup(html)\n",
    "    links = soup.find_all('a')\n",
    "    href = [link.get(\"href\") for link in links]\n",
    "    box_scores = [h for h in href if h and 'boxscores' in h and '.html' in h]\n",
    "    box_scores = [f\"https://www.basketball-reference.com{h}\" for h in box_scores]\n",
    "\n",
    "    for url in box_scores:\n",
    "        save_path = os.path.join(SCORES_DIR, url.split('/')[-1])\n",
    "        if os.path.exists(save_path):\n",
    "            print(f'{save_path} already exists')\n",
    "            continue\n",
    "\n",
    "        html = await get_html(url, '#content')\n",
    "        if not html:\n",
    "            print(f'Failed to get {url}')\n",
    "            continue\n",
    "        with open(save_path, 'w+') as f:\n",
    "            f.write(html)"
   ]
  },
  {
   "cell_type": "code",
   "execution_count": null,
   "metadata": {},
   "outputs": [],
   "source": []
  },
  {
   "cell_type": "code",
   "execution_count": null,
   "metadata": {},
   "outputs": [],
   "source": [
    "standings_files = [s for s in standings_files if '.html' in s]\n",
    "\n",
    "for file in standings_files:\n",
    "    file_path = os.path.join(STANDINGS_DIR, file)\n",
    "    await scrape_box_scores(file_path)"
   ]
  },
  {
   "cell_type": "code",
   "execution_count": null,
   "metadata": {},
   "outputs": [],
   "source": [
    "standings_files\n"
   ]
  },
  {
   "cell_type": "code",
   "execution_count": null,
   "metadata": {},
   "outputs": [],
   "source": []
  }
 ],
 "metadata": {
  "kernelspec": {
   "display_name": "Python 3",
   "language": "python",
   "name": "python3"
  },
  "language_info": {
   "codemirror_mode": {
    "name": "ipython",
    "version": 3
   },
   "file_extension": ".py",
   "mimetype": "text/x-python",
   "name": "python",
   "nbconvert_exporter": "python",
   "pygments_lexer": "ipython3",
   "version": "3.12.1 (v3.12.1:2305ca5144, Dec  7 2023, 17:23:39) [Clang 13.0.0 (clang-1300.0.29.30)]"
  },
  "orig_nbformat": 4,
  "vscode": {
   "interpreter": {
    "hash": "aee8b7b246df8f9039afb4144a1f6fd8d2ca17a180786b69acc140d282b71a49"
   }
  }
 },
 "nbformat": 4,
 "nbformat_minor": 2
}
